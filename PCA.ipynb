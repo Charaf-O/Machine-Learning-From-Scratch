{
  "nbformat": 4,
  "nbformat_minor": 0,
  "metadata": {
    "colab": {
      "provenance": []
    },
    "kernelspec": {
      "name": "python3",
      "display_name": "Python 3"
    },
    "language_info": {
      "name": "python"
    }
  },
  "cells": [
    {
      "cell_type": "code",
      "execution_count": null,
      "metadata": {
        "id": "2m1MFkMwR1nR"
      },
      "outputs": [],
      "source": [
        "import numpy as np\n",
        "import matplotlib.pyplot as plt\n",
        "from sklearn import datasets\n",
        "\n",
        "data = datasets.load_iris()\n",
        "X = data.data\n",
        "y = data.target"
      ]
    },
    {
      "cell_type": "code",
      "source": [
        "class My_Pca:\n",
        "  def __init__(self, n_components):\n",
        "    self.n_components = n_components\n",
        "    self.components = None\n",
        "    self.eig_values = None\n",
        "    self.mean = None\n",
        "    self.std = None\n",
        "\n",
        "  def fit(self, X):\n",
        "    self.mean = np.mean(X, axis = 0)\n",
        "    self.std = np.std(X, axis = 0)\n",
        "\n",
        "    X = (X - self.mean) / self.std\n",
        "\n",
        "    cov = np.cov(X.T)\n",
        "\n",
        "    eigval, eigvec = np.linalg.eig(cov)\n",
        "\n",
        "    idx = np.argsort(eigval)[::-1]\n",
        "    eigval = eigval[idx]\n",
        "    eigvec = eigvec[idx]\n",
        "\n",
        "    self.components = eigvec[:self.n_components]\n",
        "    self.eig_values = eigval[:self.n_components]\n",
        "\n",
        "  def transform(self, X):\n",
        "    X = (X - self.mean) / self.std\n",
        "    return np.dot(X, self.components.T)\n",
        "  \n",
        "  def get_components(self):\n",
        "    return self.components\n",
        "\n",
        "  def get_explained_variance(self):\n",
        "    return self.eig_values\n",
        "\n",
        "\n",
        "  def get_explained_variance_ratio(self):\n",
        "    explained_variance_ratio = np.divide(self.eig_values, np.sum(self.eig_values))\n",
        "    return explained_variance_ratio[:self.n_components]"
      ],
      "metadata": {
        "id": "DGgCd-43M0Jl"
      },
      "execution_count": null,
      "outputs": []
    },
    {
      "cell_type": "code",
      "source": [
        "pca = PCA(n_components=2)\n",
        "\n",
        "pca.fit(X)\n",
        "\n",
        "principal_comps_builtin = pca.components_.T\n",
        "\n",
        "for i,component in enumerate(pca.components_):\n",
        "    print(f'principal component {i}')\n",
        "    print(component)\n",
        "    print()\n"
      ],
      "metadata": {
        "colab": {
          "base_uri": "https://localhost:8080/"
        },
        "id": "-XKOZllRV7lo",
        "outputId": "e8beb0f6-fec1-4298-f5d0-cd4ef8c54eda"
      },
      "execution_count": null,
      "outputs": [
        {
          "output_type": "stream",
          "name": "stdout",
          "text": [
            "principal component 0\n",
            "[ 0.52106591 -0.26934744  0.5804131   0.56485654]\n",
            "\n",
            "principal component 1\n",
            "[0.37741762 0.92329566 0.02449161 0.06694199]\n",
            "\n"
          ]
        }
      ]
    },
    {
      "cell_type": "code",
      "source": [
        "pca.explained_variance_ratio_"
      ],
      "metadata": {
        "colab": {
          "base_uri": "https://localhost:8080/"
        },
        "id": "luKNZSaNYpZ4",
        "outputId": "05624313-c1b7-4244-e221-f92bdf331931"
      },
      "execution_count": null,
      "outputs": [
        {
          "output_type": "execute_result",
          "data": {
            "text/plain": [
              "array([0.72962445, 0.22850762])"
            ]
          },
          "metadata": {},
          "execution_count": 39
        }
      ]
    },
    {
      "cell_type": "code",
      "source": [
        "pca.explained_variance_"
      ],
      "metadata": {
        "colab": {
          "base_uri": "https://localhost:8080/"
        },
        "id": "IzkFkGk0W4xP",
        "outputId": "42817d28-5db2-4593-e6ed-981bb4929008"
      },
      "execution_count": null,
      "outputs": [
        {
          "output_type": "execute_result",
          "data": {
            "text/plain": [
              "array([2.93808505, 0.9201649 ])"
            ]
          },
          "metadata": {},
          "execution_count": 40
        }
      ]
    },
    {
      "cell_type": "code",
      "source": [
        "pca.components_"
      ],
      "metadata": {
        "colab": {
          "base_uri": "https://localhost:8080/"
        },
        "id": "jsU7d8rTPaqS",
        "outputId": "d67912b7-ff0e-434e-bc6b-24026a265424"
      },
      "execution_count": null,
      "outputs": [
        {
          "output_type": "execute_result",
          "data": {
            "text/plain": [
              "array([[ 0.52106591, -0.26934744,  0.5804131 ,  0.56485654],\n",
              "       [ 0.37741762,  0.92329566,  0.02449161,  0.06694199]])"
            ]
          },
          "metadata": {},
          "execution_count": 41
        }
      ]
    },
    {
      "cell_type": "code",
      "source": [
        "my_pca = My_Pca(2)"
      ],
      "metadata": {
        "id": "_EtJfp5eejR0"
      },
      "execution_count": null,
      "outputs": []
    },
    {
      "cell_type": "code",
      "source": [
        "my_pca.fit(X)"
      ],
      "metadata": {
        "id": "4sWa7aBlQygR"
      },
      "execution_count": null,
      "outputs": []
    },
    {
      "cell_type": "code",
      "source": [
        "my_pca.explained_variance_()"
      ],
      "metadata": {
        "colab": {
          "base_uri": "https://localhost:8080/"
        },
        "id": "0Kze6i1JQ2rh",
        "outputId": "d4829e28-b6b7-45c8-98bc-d80a08eacf53"
      },
      "execution_count": null,
      "outputs": [
        {
          "output_type": "execute_result",
          "data": {
            "text/plain": [
              "array([2.93808505, 0.9201649 ])"
            ]
          },
          "metadata": {},
          "execution_count": 44
        }
      ]
    },
    {
      "cell_type": "code",
      "source": [
        "my_pca.explained_variance_ratio_()"
      ],
      "metadata": {
        "colab": {
          "base_uri": "https://localhost:8080/"
        },
        "id": "zDJnF8Z3Q5-N",
        "outputId": "92c71456-112d-4df5-edd3-abbb3237e8c0"
      },
      "execution_count": null,
      "outputs": [
        {
          "output_type": "execute_result",
          "data": {
            "text/plain": [
              "array([0.76150718, 0.23849282])"
            ]
          },
          "metadata": {},
          "execution_count": 45
        }
      ]
    },
    {
      "cell_type": "code",
      "source": [
        "my_pca.components_()"
      ],
      "metadata": {
        "colab": {
          "base_uri": "https://localhost:8080/"
        },
        "id": "x0y2hVkSSZzk",
        "outputId": "53eaaec4-19c9-4d1a-e118-98b609c16959"
      },
      "execution_count": null,
      "outputs": [
        {
          "output_type": "execute_result",
          "data": {
            "text/plain": [
              "array([[ 0.52106591, -0.37741762, -0.71956635,  0.26128628],\n",
              "       [-0.26934744, -0.92329566,  0.24438178, -0.12350962]])"
            ]
          },
          "metadata": {},
          "execution_count": 46
        }
      ]
    },
    {
      "cell_type": "code",
      "source": [],
      "metadata": {
        "id": "nmgNSAqbSdSJ"
      },
      "execution_count": null,
      "outputs": []
    }
  ]
}